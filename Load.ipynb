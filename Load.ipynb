{
 "cells": [
  {
   "cell_type": "code",
   "execution_count": 15,
   "id": "4d970e30-22b8-45f4-986d-aaf1aa20d795",
   "metadata": {},
   "outputs": [],
   "source": [
    "import os\n",
    "import sqlite3\n",
    "import pandas as pd"
   ]
  },
  {
   "cell_type": "code",
   "execution_count": 43,
   "id": "7f13bac7-4b44-48ed-ac7c-09bd96fbb202",
   "metadata": {},
   "outputs": [],
   "source": [
    "os.chdir('C:\\\\Users\\\\Mateus\\\\Desktop\\\\ProjetosPython\\\\Staging')"
   ]
  },
  {
   "cell_type": "code",
   "execution_count": 45,
   "id": "87915749-4886-467c-80b3-4f0a953a0dd4",
   "metadata": {},
   "outputs": [
    {
     "data": {
      "text/plain": [
       "'C:\\\\Users\\\\Mateus\\\\Desktop\\\\ProjetosPython\\\\Staging'"
      ]
     },
     "execution_count": 45,
     "metadata": {},
     "output_type": "execute_result"
    }
   ],
   "source": [
    "pwd"
   ]
  },
  {
   "cell_type": "code",
   "execution_count": 47,
   "id": "c8d3a0ea-0ef1-426d-acfd-d5d35571214d",
   "metadata": {},
   "outputs": [],
   "source": [
    "Churn_staging = pd.read_csv('Churn_staging.csv')"
   ]
  },
  {
   "cell_type": "code",
   "execution_count": 53,
   "id": "3bda9c28-ddb0-44ee-ae71-e857e0640634",
   "metadata": {},
   "outputs": [],
   "source": [
    "os.chdir('C:\\\\Users\\\\Mateus\\\\Desktop\\\\ProjetosPython\\\\Refined')"
   ]
  },
  {
   "cell_type": "code",
   "execution_count": 55,
   "id": "dc0601f0-4f23-4e8e-87c9-edb4b6d57998",
   "metadata": {},
   "outputs": [],
   "source": [
    "# Criar/conectar ao banco de dados SQLite\n",
    "con = sqlite3.connect('dados_churn.db')"
   ]
  },
  {
   "cell_type": "code",
   "execution_count": 57,
   "id": "e6bfa550-320b-4199-a8a2-b33947ecf5ed",
   "metadata": {},
   "outputs": [],
   "source": [
    "# Cursor\n",
    "cur = con.cursor()"
   ]
  },
  {
   "cell_type": "code",
   "execution_count": 59,
   "id": "e4ab9459-3876-4735-9ee2-0e3589eefa20",
   "metadata": {},
   "outputs": [
    {
     "data": {
      "text/plain": [
       "<sqlite3.Cursor at 0x1d2f3bdad40>"
      ]
     },
     "execution_count": 59,
     "metadata": {},
     "output_type": "execute_result"
    }
   ],
   "source": [
    "# Criar a tabela no SQLite (se não existir)\n",
    "con.execute('''\n",
    "CREATE TABLE IF NOT EXISTS tabelaChurn (\n",
    "    ID_cliente VARCHAR,\n",
    "    Churn VARCHAR,\n",
    "    Genero VARCHAR,\n",
    "    Idoso INTEGER,\n",
    "    Parceiro VARCHAR,\n",
    "    Dependentes VARCHAR,\n",
    "    MesesTempoServico REAL,\n",
    "    AssinaturaServicoTelefone VARCHAR,\n",
    "    VariasLinhas VARCHAR,\n",
    "    ProvedorInternet VARCHAR,\n",
    "    AssinaturaAdicionalSeguranca VARCHAR,\n",
    "    AssinaturaAdicionalBackup VARCHAR,\n",
    "    AssinaturaAdicionalProtecao VARCHAR,\n",
    "    AssinaturaSuporteTecnico VARCHAR,\n",
    "    AssinaturaTv VARCHAR,\n",
    "    AssinaturaFilmes VARCHAR,\n",
    "    TipoContrato VARCHAR,\n",
    "    PreferenciaFaturaOnline VARCHAR,\n",
    "    FormaPagamento VARCHAR,\n",
    "    TotalServicoMes REAL,\n",
    "    TotalGasto REAL\n",
    ");\n",
    "''')"
   ]
  },
  {
   "cell_type": "code",
   "execution_count": 61,
   "id": "0074a89a-d64b-4514-98ef-f701724dc762",
   "metadata": {},
   "outputs": [
    {
     "data": {
      "text/plain": [
       "'C:\\\\Users\\\\Mateus\\\\Desktop\\\\ProjetosPython\\\\Refined'"
      ]
     },
     "execution_count": 61,
     "metadata": {},
     "output_type": "execute_result"
    }
   ],
   "source": [
    "pwd"
   ]
  },
  {
   "cell_type": "code",
   "execution_count": 63,
   "id": "3af194b6-c28b-4c17-8d14-7d8d96d6a019",
   "metadata": {},
   "outputs": [
    {
     "data": {
      "text/plain": [
       "7006"
      ]
     },
     "execution_count": 63,
     "metadata": {},
     "output_type": "execute_result"
    }
   ],
   "source": [
    "Churn_staging.to_sql('dados_churn',con,if_exists='append',index=False)"
   ]
  },
  {
   "cell_type": "code",
   "execution_count": 65,
   "id": "3008e204-016c-4e12-a7c1-ee3aa3e02c5d",
   "metadata": {},
   "outputs": [],
   "source": [
    "### comitando a conexão ao banco\n",
    "con.commit()"
   ]
  },
  {
   "cell_type": "code",
   "execution_count": 67,
   "id": "631f39d0-cb00-4dfe-8203-40a3a5a41db6",
   "metadata": {},
   "outputs": [],
   "source": [
    "### fechando conexão\n",
    "con.close()"
   ]
  },
  {
   "cell_type": "code",
   "execution_count": null,
   "id": "1e3c3f71-6d55-4073-88d8-88825c322845",
   "metadata": {},
   "outputs": [],
   "source": []
  }
 ],
 "metadata": {
  "kernelspec": {
   "display_name": "Python 3 (ipykernel)",
   "language": "python",
   "name": "python3"
  },
  "language_info": {
   "codemirror_mode": {
    "name": "ipython",
    "version": 3
   },
   "file_extension": ".py",
   "mimetype": "text/x-python",
   "name": "python",
   "nbconvert_exporter": "python",
   "pygments_lexer": "ipython3",
   "version": "3.12.4"
  }
 },
 "nbformat": 4,
 "nbformat_minor": 5
}
