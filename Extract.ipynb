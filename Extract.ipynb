{
 "cells": [
  {
   "cell_type": "code",
   "execution_count": 1,
   "id": "f8c40448-ac53-4e55-881f-8dbece507d58",
   "metadata": {},
   "outputs": [],
   "source": [
    "import pandas as pd\n",
    "import requests\n",
    "from io import StringIO\n",
    "import numpy as np\n",
    "import os"
   ]
  },
  {
   "cell_type": "code",
   "execution_count": 49,
   "id": "a469b718-f171-4793-a55e-190882a18d22",
   "metadata": {},
   "outputs": [],
   "source": [
    "url = 'https://cdn3.gnarususercontent.com.br/2929-pandas/dataset-telecon.json'"
   ]
  },
  {
   "cell_type": "code",
   "execution_count": 51,
   "id": "cdd9ffbb-4f9d-4bcd-a6e4-6a71741b9c62",
   "metadata": {},
   "outputs": [],
   "source": [
    "response = requests.get(url)"
   ]
  },
  {
   "cell_type": "code",
   "execution_count": 53,
   "id": "a50b7f01-d85e-4118-b95e-08b309825ffc",
   "metadata": {},
   "outputs": [],
   "source": [
    "# Salvar o arquivo\n",
    "with open('dados_json.json','wb') as file:\n",
    "    file.write(response.content)"
   ]
  },
  {
   "cell_type": "code",
   "execution_count": 57,
   "id": "3852a802-e492-49cc-8c12-551cebe0819c",
   "metadata": {},
   "outputs": [],
   "source": [
    "dados = pd.read_json('dados_json.json')"
   ]
  },
  {
   "cell_type": "code",
   "execution_count": 59,
   "id": "1074c185-1a8f-444d-8e23-4764de0d2674",
   "metadata": {},
   "outputs": [
    {
     "data": {
      "text/html": [
       "<div>\n",
       "<style scoped>\n",
       "    .dataframe tbody tr th:only-of-type {\n",
       "        vertical-align: middle;\n",
       "    }\n",
       "\n",
       "    .dataframe tbody tr th {\n",
       "        vertical-align: top;\n",
       "    }\n",
       "\n",
       "    .dataframe thead th {\n",
       "        text-align: right;\n",
       "    }\n",
       "</style>\n",
       "<table border=\"1\" class=\"dataframe\">\n",
       "  <thead>\n",
       "    <tr style=\"text-align: right;\">\n",
       "      <th></th>\n",
       "      <th>id_cliente</th>\n",
       "      <th>Churn</th>\n",
       "      <th>cliente</th>\n",
       "      <th>telefone</th>\n",
       "      <th>internet</th>\n",
       "      <th>conta</th>\n",
       "    </tr>\n",
       "  </thead>\n",
       "  <tbody>\n",
       "    <tr>\n",
       "      <th>0</th>\n",
       "      <td>0002-ORFBO</td>\n",
       "      <td>nao</td>\n",
       "      <td>{'genero': 'feminino', 'idoso': 0, 'parceiro':...</td>\n",
       "      <td>{'servico_telefone': 'sim', 'varias_linhas': '...</td>\n",
       "      <td>{'servico_internet': 'DSL', 'seguranca_online'...</td>\n",
       "      <td>{'contrato': None, 'faturamente_eletronico': N...</td>\n",
       "    </tr>\n",
       "    <tr>\n",
       "      <th>1</th>\n",
       "      <td>0003-MKNFE</td>\n",
       "      <td>nao</td>\n",
       "      <td>{'genero': 'masculino', 'idoso': 0, 'parceiro'...</td>\n",
       "      <td>{'servico_telefone': 'sim', 'varias_linhas': '...</td>\n",
       "      <td>{'servico_internet': 'DSL', 'seguranca_online'...</td>\n",
       "      <td>{'contrato': 'mes a mes', 'faturamente_eletron...</td>\n",
       "    </tr>\n",
       "    <tr>\n",
       "      <th>2</th>\n",
       "      <td>0004-TLHLJ</td>\n",
       "      <td>sim</td>\n",
       "      <td>{'genero': 'masculino', 'idoso': 0, 'parceiro'...</td>\n",
       "      <td>{'servico_telefone': 'sim', 'varias_linhas': '...</td>\n",
       "      <td>{'servico_internet': 'fibra otica', 'seguranca...</td>\n",
       "      <td>{'contrato': 'mes a mes', 'faturamente_eletron...</td>\n",
       "    </tr>\n",
       "    <tr>\n",
       "      <th>3</th>\n",
       "      <td>0011-IGKFF</td>\n",
       "      <td>sim</td>\n",
       "      <td>{'genero': 'masculino', 'idoso': 1, 'parceiro'...</td>\n",
       "      <td>{'servico_telefone': 'sim', 'varias_linhas': '...</td>\n",
       "      <td>{'servico_internet': 'fibra otica', 'seguranca...</td>\n",
       "      <td>{'contrato': 'mes a mes', 'faturamente_eletron...</td>\n",
       "    </tr>\n",
       "    <tr>\n",
       "      <th>4</th>\n",
       "      <td>0013-EXCHZ</td>\n",
       "      <td>sim</td>\n",
       "      <td>{'genero': 'feminino', 'idoso': 1, 'parceiro':...</td>\n",
       "      <td>{'servico_telefone': 'sim', 'varias_linhas': '...</td>\n",
       "      <td>{'servico_internet': 'fibra otica', 'seguranca...</td>\n",
       "      <td>{'contrato': 'mes a mes', 'faturamente_eletron...</td>\n",
       "    </tr>\n",
       "  </tbody>\n",
       "</table>\n",
       "</div>"
      ],
      "text/plain": [
       "   id_cliente Churn                                            cliente  \\\n",
       "0  0002-ORFBO   nao  {'genero': 'feminino', 'idoso': 0, 'parceiro':...   \n",
       "1  0003-MKNFE   nao  {'genero': 'masculino', 'idoso': 0, 'parceiro'...   \n",
       "2  0004-TLHLJ   sim  {'genero': 'masculino', 'idoso': 0, 'parceiro'...   \n",
       "3  0011-IGKFF   sim  {'genero': 'masculino', 'idoso': 1, 'parceiro'...   \n",
       "4  0013-EXCHZ   sim  {'genero': 'feminino', 'idoso': 1, 'parceiro':...   \n",
       "\n",
       "                                            telefone  \\\n",
       "0  {'servico_telefone': 'sim', 'varias_linhas': '...   \n",
       "1  {'servico_telefone': 'sim', 'varias_linhas': '...   \n",
       "2  {'servico_telefone': 'sim', 'varias_linhas': '...   \n",
       "3  {'servico_telefone': 'sim', 'varias_linhas': '...   \n",
       "4  {'servico_telefone': 'sim', 'varias_linhas': '...   \n",
       "\n",
       "                                            internet  \\\n",
       "0  {'servico_internet': 'DSL', 'seguranca_online'...   \n",
       "1  {'servico_internet': 'DSL', 'seguranca_online'...   \n",
       "2  {'servico_internet': 'fibra otica', 'seguranca...   \n",
       "3  {'servico_internet': 'fibra otica', 'seguranca...   \n",
       "4  {'servico_internet': 'fibra otica', 'seguranca...   \n",
       "\n",
       "                                               conta  \n",
       "0  {'contrato': None, 'faturamente_eletronico': N...  \n",
       "1  {'contrato': 'mes a mes', 'faturamente_eletron...  \n",
       "2  {'contrato': 'mes a mes', 'faturamente_eletron...  \n",
       "3  {'contrato': 'mes a mes', 'faturamente_eletron...  \n",
       "4  {'contrato': 'mes a mes', 'faturamente_eletron...  "
      ]
     },
     "execution_count": 59,
     "metadata": {},
     "output_type": "execute_result"
    }
   ],
   "source": [
    "dados.head()"
   ]
  },
  {
   "cell_type": "code",
   "execution_count": 63,
   "id": "02d43551-4897-486c-9a83-31d4af5e5d4d",
   "metadata": {},
   "outputs": [],
   "source": [
    "os.chdir('C:\\\\Users\\\\Mateus\\\\Desktop\\\\ProjetosPython\\\\Raw')"
   ]
  },
  {
   "cell_type": "code",
   "execution_count": 67,
   "id": "c346e319-fecc-421e-ad3e-0eb05d5ec852",
   "metadata": {},
   "outputs": [],
   "source": [
    "dados.to_csv('dados_churn_cru.json')"
   ]
  },
  {
   "cell_type": "code",
   "execution_count": null,
   "id": "a75b2f2e-9e02-4bef-a4aa-266147f44281",
   "metadata": {},
   "outputs": [],
   "source": []
  }
 ],
 "metadata": {
  "kernelspec": {
   "display_name": "Python 3 (ipykernel)",
   "language": "python",
   "name": "python3"
  },
  "language_info": {
   "codemirror_mode": {
    "name": "ipython",
    "version": 3
   },
   "file_extension": ".py",
   "mimetype": "text/x-python",
   "name": "python",
   "nbconvert_exporter": "python",
   "pygments_lexer": "ipython3",
   "version": "3.12.4"
  }
 },
 "nbformat": 4,
 "nbformat_minor": 5
}
